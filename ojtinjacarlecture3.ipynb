{
 "cells": [
  {
   "cell_type": "markdown",
   "metadata": {},
   "source": [
    "# Introduction to NumPy\n",
    "by Maxwell Margenot\n",
    "\n",
    "Part of the Quantopian Lecture Series:\n",
    "\n",
    "* [www.quantopian.com/lectures](https://www.quantopian.com/lectures)\n",
    "* [github.com/quantopian/research_public](https://github.com/quantopian/research_public)\n",
    "\n",
    "Notebook released under the Creative Commons Attribution 4.0 License."
   ]
  },
  {
   "cell_type": "markdown",
   "metadata": {},
   "source": [
    "NumPy is an incredibly powerful package in Python that is ubiquitous throughout the Quantopian platform. It has strong integration with Pandas, another tool we will be covering in the lecture series. NumPy adds support for multi-dimensional arrays and mathematical functions that allow you to easily perform linear algebra calculations. This lecture will be a collection of linear algebra examples computed using NumPy."
   ]
  },
  {
   "cell_type": "code",
   "execution_count": 1,
   "metadata": {},
   "outputs": [],
   "source": [
    "import numpy as np\n",
    "import matplotlib.pyplot as plt"
   ]
  },
  {
   "cell_type": "markdown",
   "metadata": {},
   "source": [
    "### Basic NumPy arrays"
   ]
  },
  {
   "cell_type": "markdown",
   "metadata": {},
   "source": [
    "The most basic way that we could make use of NumPy in finance is calculating the mean return of a portfolio. Say that we have a list containing the historical return of several stocks."
   ]
  },
  {
   "cell_type": "code",
   "execution_count": 2,
   "metadata": {},
   "outputs": [],
   "source": [
    "stock_list = [3.5, 5, 2, 8, 4.2]"
   ]
  },
  {
   "cell_type": "code",
   "execution_count": 4,
   "metadata": {},
   "outputs": [],
   "source": [
    "new_list = [1.2,3,6,2,1,7.8]"
   ]
  },
  {
   "cell_type": "markdown",
   "metadata": {},
   "source": [
    "We can make an array by calling a function on the list:"
   ]
  },
  {
   "cell_type": "code",
   "execution_count": 3,
   "metadata": {},
   "outputs": [
    {
     "name": "stdout",
     "output_type": "stream",
     "text": [
      "[ 3.5  5.   2.   8.   4.2] <class 'numpy.ndarray'>\n"
     ]
    }
   ],
   "source": [
    "returns = np.array(stock_list)\n",
    "print returns, type(returns)"
   ]
  },
  {
   "cell_type": "code",
   "execution_count": 5,
   "metadata": {},
   "outputs": [
    {
     "name": "stdout",
     "output_type": "stream",
     "text": [
      "[ 1.2  3.   6.   2.   1.   7.8]\n",
      "<class 'numpy.ndarray'>\n"
     ]
    }
   ],
   "source": [
    "return_1 = np.array(new_list)\n",
    "print(return_1)\n",
    "print(type(return_1))"
   ]
  },
  {
   "cell_type": "markdown",
   "metadata": {},
   "source": [
    "You'll notice that the type of our array is 'ndarray', not just 'array'. This is because NumPy arrays can be created with multiple dimensions. If we pass np.array() a list of lists, it will create a 2-dimensional array. If we pass a list of lists of lists, it will create a 3-dimensional array, and so on and so forth."
   ]
  },
  {
   "cell_type": "code",
   "execution_count": 7,
   "metadata": {},
   "outputs": [
    {
     "name": "stdout",
     "output_type": "stream",
     "text": [
      "[[1 2]\n",
      " [3 4]] <class 'numpy.ndarray'>\n"
     ]
    }
   ],
   "source": [
    "A = np.array([[1, 2], [3, 4]])\n",
    "print A, type(A)"
   ]
  },
  {
   "cell_type": "code",
   "execution_count": 8,
   "metadata": {},
   "outputs": [
    {
     "name": "stdout",
     "output_type": "stream",
     "text": [
      "[[ 21  12  23]\n",
      " [ 43  44 223]\n",
      " [ 12  34  56]] <class 'numpy.ndarray'>\n"
     ]
    }
   ],
   "source": [
    "B = np.array([[21, 12,23], [43, 44,223],[12,34,56]])\n",
    "print B, type(B)"
   ]
  },
  {
   "cell_type": "markdown",
   "metadata": {},
   "source": [
    "We can access the dimensions of an array by looking at its `shape` member variable."
   ]
  },
  {
   "cell_type": "code",
   "execution_count": 9,
   "metadata": {},
   "outputs": [
    {
     "name": "stdout",
     "output_type": "stream",
     "text": [
      "(2, 2)\n"
     ]
    }
   ],
   "source": [
    "print A.shape"
   ]
  },
  {
   "cell_type": "code",
   "execution_count": 10,
   "metadata": {},
   "outputs": [
    {
     "name": "stdout",
     "output_type": "stream",
     "text": [
      "(3, 3)\n"
     ]
    }
   ],
   "source": [
    "print(B.shape)"
   ]
  },
  {
   "cell_type": "markdown",
   "metadata": {},
   "source": [
    "Arrays are indexed in much the same way as lists in Python. Elements of a list begin indexing from $0$ and end at $n - 1$, where $n$ is the length of the array."
   ]
  },
  {
   "cell_type": "code",
   "execution_count": 11,
   "metadata": {},
   "outputs": [
    {
     "name": "stdout",
     "output_type": "stream",
     "text": [
      "3.5 4.2\n"
     ]
    }
   ],
   "source": [
    "print returns[0], returns[len(returns) - 1]"
   ]
  },
  {
   "cell_type": "code",
   "execution_count": 12,
   "metadata": {},
   "outputs": [
    {
     "name": "stdout",
     "output_type": "stream",
     "text": [
      "1.2 7.8\n"
     ]
    }
   ],
   "source": [
    "print(return_1[0],return_1[len(return_1) - 1])"
   ]
  },
  {
   "cell_type": "markdown",
   "metadata": {},
   "source": [
    "We can take a slice of an array using a colon, just like in a list."
   ]
  },
  {
   "cell_type": "code",
   "execution_count": 7,
   "metadata": {},
   "outputs": [
    {
     "name": "stdout",
     "output_type": "stream",
     "text": [
      "[ 5.  2.]\n"
     ]
    }
   ],
   "source": [
    "print returns[1:3]"
   ]
  },
  {
   "cell_type": "code",
   "execution_count": 13,
   "metadata": {},
   "outputs": [
    {
     "name": "stdout",
     "output_type": "stream",
     "text": [
      "[ 6.  2.]\n"
     ]
    }
   ],
   "source": [
    "print(return_1[2:4])"
   ]
  },
  {
   "cell_type": "markdown",
   "metadata": {},
   "source": [
    "A slice of an array, like in a list, will select a group of elements in the array starting from the first element indicated and going up to (but not including) the last element indicated.\n",
    "\n",
    "In the case of multidimensional arrays, many of the same conventions with slicing and indexing hold. We can access the first column of a 2-dimensional array like so:"
   ]
  },
  {
   "cell_type": "code",
   "execution_count": 8,
   "metadata": {},
   "outputs": [
    {
     "name": "stdout",
     "output_type": "stream",
     "text": [
      "[1 3]\n"
     ]
    }
   ],
   "source": [
    "print A[:, 0]"
   ]
  },
  {
   "cell_type": "code",
   "execution_count": 14,
   "metadata": {},
   "outputs": [
    {
     "name": "stdout",
     "output_type": "stream",
     "text": [
      "[21 43 12]\n"
     ]
    }
   ],
   "source": [
    "print(B[:,0])"
   ]
  },
  {
   "cell_type": "markdown",
   "metadata": {},
   "source": [
    "And the first row of a 2-dimensional array like so:"
   ]
  },
  {
   "cell_type": "code",
   "execution_count": 9,
   "metadata": {},
   "outputs": [
    {
     "name": "stdout",
     "output_type": "stream",
     "text": [
      "[1 2]\n"
     ]
    }
   ],
   "source": [
    "print A[0, :]"
   ]
  },
  {
   "cell_type": "code",
   "execution_count": 15,
   "metadata": {},
   "outputs": [
    {
     "name": "stdout",
     "output_type": "stream",
     "text": [
      "[21 12 23]\n"
     ]
    }
   ],
   "source": [
    "print(B[0, :])"
   ]
  },
  {
   "cell_type": "markdown",
   "metadata": {},
   "source": [
    "Notice that each slice of the array returns yet another array!"
   ]
  },
  {
   "cell_type": "code",
   "execution_count": 10,
   "metadata": {},
   "outputs": [
    {
     "name": "stdout",
     "output_type": "stream",
     "text": [
      "<type 'numpy.ndarray'>\n"
     ]
    }
   ],
   "source": [
    "print type(A[0,:])"
   ]
  },
  {
   "cell_type": "code",
   "execution_count": 16,
   "metadata": {},
   "outputs": [
    {
     "name": "stdout",
     "output_type": "stream",
     "text": [
      "<class 'numpy.ndarray'>\n"
     ]
    }
   ],
   "source": [
    "print(type(B[0, :]))"
   ]
  },
  {
   "cell_type": "markdown",
   "metadata": {},
   "source": [
    "Passing only one index to a 2-dimensional array will result in returning the row with the given index as well, providing us with another way to access individual rows."
   ]
  },
  {
   "cell_type": "code",
   "execution_count": 11,
   "metadata": {},
   "outputs": [
    {
     "name": "stdout",
     "output_type": "stream",
     "text": [
      "[1 2]\n"
     ]
    }
   ],
   "source": [
    "print A[0]"
   ]
  },
  {
   "cell_type": "code",
   "execution_count": 17,
   "metadata": {},
   "outputs": [
    {
     "name": "stdout",
     "output_type": "stream",
     "text": [
      "[21 12 23]\n"
     ]
    }
   ],
   "source": [
    "print B[0]"
   ]
  },
  {
   "cell_type": "markdown",
   "metadata": {},
   "source": [
    "Accessing the index of an individual element will return only the element."
   ]
  },
  {
   "cell_type": "code",
   "execution_count": 12,
   "metadata": {},
   "outputs": [
    {
     "name": "stdout",
     "output_type": "stream",
     "text": [
      "4\n"
     ]
    }
   ],
   "source": [
    "print A[1, 1]"
   ]
  },
  {
   "cell_type": "code",
   "execution_count": 18,
   "metadata": {},
   "outputs": [
    {
     "name": "stdout",
     "output_type": "stream",
     "text": [
      "56\n"
     ]
    }
   ],
   "source": [
    "print B[2,2]"
   ]
  },
  {
   "cell_type": "markdown",
   "metadata": {},
   "source": [
    "#### Array functions\n",
    "\n",
    "Functions built into NumPy can be easily called on arrays. Most functions are applied to an array element-wise (as scalar multiplication is). For example, if we call `log()` on an array, the logarithm will be taken of each element."
   ]
  },
  {
   "cell_type": "code",
   "execution_count": 13,
   "metadata": {},
   "outputs": [
    {
     "name": "stdout",
     "output_type": "stream",
     "text": [
      "[ 1.25276297  1.60943791  0.69314718  2.07944154  1.43508453]\n"
     ]
    }
   ],
   "source": [
    "print np.log(returns)"
   ]
  },
  {
   "cell_type": "code",
   "execution_count": 19,
   "metadata": {},
   "outputs": [
    {
     "name": "stdout",
     "output_type": "stream",
     "text": [
      "[ 0.18232156  1.09861229  1.79175947  0.69314718  0.          2.05412373]\n"
     ]
    }
   ],
   "source": [
    "print np.log(return_1)"
   ]
  },
  {
   "cell_type": "markdown",
   "metadata": {},
   "source": [
    "Some functions return a single value. This is because they treat the array as a collection (similar to a list), performing the designated function. For example, the `mean()` function will do exactly what you expect, calculating the mean of an array."
   ]
  },
  {
   "cell_type": "code",
   "execution_count": 14,
   "metadata": {},
   "outputs": [
    {
     "name": "stdout",
     "output_type": "stream",
     "text": [
      "4.54\n"
     ]
    }
   ],
   "source": [
    "print np.mean(returns)"
   ]
  },
  {
   "cell_type": "code",
   "execution_count": 20,
   "metadata": {},
   "outputs": [
    {
     "name": "stdout",
     "output_type": "stream",
     "text": [
      "3.5\n"
     ]
    }
   ],
   "source": [
    "print(np.mean(return_1))"
   ]
  },
  {
   "cell_type": "markdown",
   "metadata": {},
   "source": [
    "Or the `max()` function will return the maximum element of an array."
   ]
  },
  {
   "cell_type": "code",
   "execution_count": 15,
   "metadata": {},
   "outputs": [
    {
     "name": "stdout",
     "output_type": "stream",
     "text": [
      "8.0\n"
     ]
    }
   ],
   "source": [
    "print np.max(returns)"
   ]
  },
  {
   "cell_type": "code",
   "execution_count": 21,
   "metadata": {},
   "outputs": [
    {
     "name": "stdout",
     "output_type": "stream",
     "text": [
      "7.8\n"
     ]
    }
   ],
   "source": [
    "print ( np.max(return_1))"
   ]
  },
  {
   "cell_type": "markdown",
   "metadata": {},
   "source": [
    "For further reading on the universal functions in NumPy, check out the [documentation](https://docs.scipy.org/doc/numpy/user/quickstart.html#universal-functions)."
   ]
  },
  {
   "cell_type": "markdown",
   "metadata": {},
   "source": [
    "### Return to the returns\n",
    "\n",
    "Now let's modify our returns array with scalar values. If we add a scalar value to an array it will be added to every element of the array. If we multiply an array by a scalar value it will be multiplied against every element of the array. If we do both, both will happen!"
   ]
  },
  {
   "cell_type": "code",
   "execution_count": 16,
   "metadata": {
    "scrolled": false
   },
   "outputs": [
    {
     "data": {
      "text/plain": [
       "array([ 12. ,  15. ,   9. ,  21. ,  13.4])"
      ]
     },
     "execution_count": 16,
     "metadata": {},
     "output_type": "execute_result"
    }
   ],
   "source": [
    "returns*2 + 5"
   ]
  },
  {
   "cell_type": "code",
   "execution_count": 22,
   "metadata": {},
   "outputs": [
    {
     "data": {
      "text/plain": [
       "array([ 112.,  130.,  160.,  120.,  110.,  178.])"
      ]
     },
     "execution_count": 22,
     "metadata": {},
     "output_type": "execute_result"
    }
   ],
   "source": [
    "return_1*10+100"
   ]
  },
  {
   "cell_type": "markdown",
   "metadata": {},
   "source": [
    "NumPy also has functions specifically built to operate on arrays. Let's take the mean and standard deviation of this group of returns."
   ]
  },
  {
   "cell_type": "code",
   "execution_count": 17,
   "metadata": {},
   "outputs": [
    {
     "name": "stdout",
     "output_type": "stream",
     "text": [
      "Mean:  4.54 Std Dev:  1.99158228552\n"
     ]
    }
   ],
   "source": [
    "print \"Mean: \", np.mean(returns), \"Std Dev: \", np.std(returns)"
   ]
  },
  {
   "cell_type": "code",
   "execution_count": 23,
   "metadata": {},
   "outputs": [
    {
     "name": "stdout",
     "output_type": "stream",
     "text": [
      "Mean:  3.5\n",
      "Std Dev: 2.54230866209\n"
     ]
    }
   ],
   "source": [
    "print (\"Mean: \", np.mean(return_1))\n",
    "print(\"Std Dev:\", np.std(return_1))"
   ]
  },
  {
   "cell_type": "markdown",
   "metadata": {},
   "source": [
    "Let's simulate a universe of stocks using NumPy's functions. First we need to create the arrays to hold the assets and returns that we will use to build a portfolio. This is because arrays are created with a fixed size. Their dimensions can't be changed without creating a new array."
   ]
  },
  {
   "cell_type": "code",
   "execution_count": 36,
   "metadata": {},
   "outputs": [],
   "source": [
    "N = 10\n",
    "assets = np.zeros((N, 100))\n",
    "returns = np.zeros((N, 100))"
   ]
  },
  {
   "cell_type": "code",
   "execution_count": 35,
   "metadata": {},
   "outputs": [
    {
     "name": "stdout",
     "output_type": "stream",
     "text": [
      "[[ 0.  0.  0.  0.  0.  0.  0.  0.  0.  0.  0.  0.  0.  0.  0.  0.  0.  0.\n",
      "   0.  0.  0.  0.  0.  0.  0.  0.  0.  0.  0.  0.  0.  0.  0.  0.  0.  0.\n",
      "   0.  0.  0.  0.  0.  0.  0.  0.  0.  0.  0.  0.  0.  0.]\n",
      " [ 0.  0.  0.  0.  0.  0.  0.  0.  0.  0.  0.  0.  0.  0.  0.  0.  0.  0.\n",
      "   0.  0.  0.  0.  0.  0.  0.  0.  0.  0.  0.  0.  0.  0.  0.  0.  0.  0.\n",
      "   0.  0.  0.  0.  0.  0.  0.  0.  0.  0.  0.  0.  0.  0.]\n",
      " [ 0.  0.  0.  0.  0.  0.  0.  0.  0.  0.  0.  0.  0.  0.  0.  0.  0.  0.\n",
      "   0.  0.  0.  0.  0.  0.  0.  0.  0.  0.  0.  0.  0.  0.  0.  0.  0.  0.\n",
      "   0.  0.  0.  0.  0.  0.  0.  0.  0.  0.  0.  0.  0.  0.]\n",
      " [ 0.  0.  0.  0.  0.  0.  0.  0.  0.  0.  0.  0.  0.  0.  0.  0.  0.  0.\n",
      "   0.  0.  0.  0.  0.  0.  0.  0.  0.  0.  0.  0.  0.  0.  0.  0.  0.  0.\n",
      "   0.  0.  0.  0.  0.  0.  0.  0.  0.  0.  0.  0.  0.  0.]\n",
      " [ 0.  0.  0.  0.  0.  0.  0.  0.  0.  0.  0.  0.  0.  0.  0.  0.  0.  0.\n",
      "   0.  0.  0.  0.  0.  0.  0.  0.  0.  0.  0.  0.  0.  0.  0.  0.  0.  0.\n",
      "   0.  0.  0.  0.  0.  0.  0.  0.  0.  0.  0.  0.  0.  0.]\n",
      " [ 0.  0.  0.  0.  0.  0.  0.  0.  0.  0.  0.  0.  0.  0.  0.  0.  0.  0.\n",
      "   0.  0.  0.  0.  0.  0.  0.  0.  0.  0.  0.  0.  0.  0.  0.  0.  0.  0.\n",
      "   0.  0.  0.  0.  0.  0.  0.  0.  0.  0.  0.  0.  0.  0.]\n",
      " [ 0.  0.  0.  0.  0.  0.  0.  0.  0.  0.  0.  0.  0.  0.  0.  0.  0.  0.\n",
      "   0.  0.  0.  0.  0.  0.  0.  0.  0.  0.  0.  0.  0.  0.  0.  0.  0.  0.\n",
      "   0.  0.  0.  0.  0.  0.  0.  0.  0.  0.  0.  0.  0.  0.]\n",
      " [ 0.  0.  0.  0.  0.  0.  0.  0.  0.  0.  0.  0.  0.  0.  0.  0.  0.  0.\n",
      "   0.  0.  0.  0.  0.  0.  0.  0.  0.  0.  0.  0.  0.  0.  0.  0.  0.  0.\n",
      "   0.  0.  0.  0.  0.  0.  0.  0.  0.  0.  0.  0.  0.  0.]\n",
      " [ 0.  0.  0.  0.  0.  0.  0.  0.  0.  0.  0.  0.  0.  0.  0.  0.  0.  0.\n",
      "   0.  0.  0.  0.  0.  0.  0.  0.  0.  0.  0.  0.  0.  0.  0.  0.  0.  0.\n",
      "   0.  0.  0.  0.  0.  0.  0.  0.  0.  0.  0.  0.  0.  0.]\n",
      " [ 0.  0.  0.  0.  0.  0.  0.  0.  0.  0.  0.  0.  0.  0.  0.  0.  0.  0.\n",
      "   0.  0.  0.  0.  0.  0.  0.  0.  0.  0.  0.  0.  0.  0.  0.  0.  0.  0.\n",
      "   0.  0.  0.  0.  0.  0.  0.  0.  0.  0.  0.  0.  0.  0.]\n",
      " [ 0.  0.  0.  0.  0.  0.  0.  0.  0.  0.  0.  0.  0.  0.  0.  0.  0.  0.\n",
      "   0.  0.  0.  0.  0.  0.  0.  0.  0.  0.  0.  0.  0.  0.  0.  0.  0.  0.\n",
      "   0.  0.  0.  0.  0.  0.  0.  0.  0.  0.  0.  0.  0.  0.]\n",
      " [ 0.  0.  0.  0.  0.  0.  0.  0.  0.  0.  0.  0.  0.  0.  0.  0.  0.  0.\n",
      "   0.  0.  0.  0.  0.  0.  0.  0.  0.  0.  0.  0.  0.  0.  0.  0.  0.  0.\n",
      "   0.  0.  0.  0.  0.  0.  0.  0.  0.  0.  0.  0.  0.  0.]\n",
      " [ 0.  0.  0.  0.  0.  0.  0.  0.  0.  0.  0.  0.  0.  0.  0.  0.  0.  0.\n",
      "   0.  0.  0.  0.  0.  0.  0.  0.  0.  0.  0.  0.  0.  0.  0.  0.  0.  0.\n",
      "   0.  0.  0.  0.  0.  0.  0.  0.  0.  0.  0.  0.  0.  0.]\n",
      " [ 0.  0.  0.  0.  0.  0.  0.  0.  0.  0.  0.  0.  0.  0.  0.  0.  0.  0.\n",
      "   0.  0.  0.  0.  0.  0.  0.  0.  0.  0.  0.  0.  0.  0.  0.  0.  0.  0.\n",
      "   0.  0.  0.  0.  0.  0.  0.  0.  0.  0.  0.  0.  0.  0.]\n",
      " [ 0.  0.  0.  0.  0.  0.  0.  0.  0.  0.  0.  0.  0.  0.  0.  0.  0.  0.\n",
      "   0.  0.  0.  0.  0.  0.  0.  0.  0.  0.  0.  0.  0.  0.  0.  0.  0.  0.\n",
      "   0.  0.  0.  0.  0.  0.  0.  0.  0.  0.  0.  0.  0.  0.]]\n"
     ]
    }
   ],
   "source": [
    "N_2 = 15\n",
    "assets_1 = np.zeros((N_2, 50))\n",
    "returns_2 = np.zeros((N_2, 50))\n",
    "print assets_1"
   ]
  },
  {
   "cell_type": "markdown",
   "metadata": {},
   "source": [
    "This function, `zeroes()`, creates a NumPy array with the given dimensions that is entirely filled in with $0$. We can pass a single value or a tuple of as many dimensions as we like. Passing in the tuple `(N, 100)`, will return a two-dimensional array with $N$ rows and $100$ columns. Our result is a $N \\times 100$ array.\n",
    "\n",
    "Now we will simulate a base asset. We want the universe of stocks to be correlated with each other so we will use this initial value to generate the others."
   ]
  },
  {
   "cell_type": "code",
   "execution_count": 37,
   "metadata": {},
   "outputs": [],
   "source": [
    "R_1 = np.random.normal(1.01, 0.03, 100)\n",
    "returns[0] = R_1\n",
    "assets[0] = np.cumprod(R_1)"
   ]
  },
  {
   "cell_type": "code",
   "execution_count": 50,
   "metadata": {},
   "outputs": [
    {
     "name": "stdout",
     "output_type": "stream",
     "text": [
      "[[  2.30142855   2.26815023   2.18189232   2.36412567   2.20500311\n",
      "    2.29669033   2.38009667   2.44944799   2.1480328    2.23932084\n",
      "    2.25019508   2.38569057   2.30840229   2.24295794   2.17541521\n",
      "    2.21106183   2.41250272   2.30203529   2.3782717    2.30858977\n",
      "    2.37690537   2.21300034   2.21780089   2.41639395   2.54362752\n",
      "    2.14226692   2.39581132   2.45097536   2.26252699   2.40821207\n",
      "    2.46137164   2.25105568   2.33537783   2.31336993   2.55515763\n",
      "    2.34390842   2.26475765   2.2660719    2.36651173   2.35748565\n",
      "    2.30712169   2.3022515    2.24851974   2.18119811   2.38072703\n",
      "    2.21867621   2.50149289   2.07590891   2.11217498   2.08767198]\n",
      " [ 10.42509844  10.29276396  10.19982234  10.54628387  10.27035623\n",
      "   10.0604214   10.19406816  10.42030247  10.15212714  10.02667647\n",
      "   10.85462842  10.16577382  10.69342811  10.31695871  10.1962314\n",
      "   10.471982    10.17388232  10.2701063   10.33863863  10.5239171\n",
      "   10.45965272  10.84148221  10.26670209  10.51868883   9.75712575\n",
      "   10.06537572  10.75990694  10.49818393  10.02718566  10.2873819\n",
      "   10.41416081  10.13315453  10.47763841  10.42623619  10.11020821\n",
      "   10.62493034  10.55609065  10.20385047  10.04418219   9.97012412\n",
      "   10.06063836  10.28482096  10.33114341   9.99126157  10.29127839\n",
      "   10.11876965  10.34801354  10.11622676  10.65843528  10.52997462]\n",
      " [ 10.1602136   10.30915418  10.24083082  10.46927604  10.49434293\n",
      "   10.23912963  10.56565344  10.2106665   10.24408396  10.28163428\n",
      "   10.31262324  10.03427386  10.43546925  10.39160437  10.02744621\n",
      "   10.15021317   9.82701104  10.06202544  10.5239244   10.50215374\n",
      "   10.05831803  10.09190273   9.98390916  10.79307791  10.03867381\n",
      "   10.25113533  10.58098669  10.39153224  10.20035212  10.36035297\n",
      "   10.41186062  10.38694027  10.23713824  10.397608    10.10784073\n",
      "   10.4008605   10.65854889  10.27686012  10.34096322  10.35936317\n",
      "    9.90935291  10.45903513  10.06830415  10.25952904  10.33544473\n",
      "   10.17259559  10.36280793  10.63761708  10.32754871   9.96857687]\n",
      " [  9.99426813  10.22567108   9.9185581   10.08712979  10.37194327\n",
      "   10.31411899  10.21511534  10.35539755  10.39515121   9.59718699\n",
      "   10.7351243   10.1640389   10.29704954  10.24754804  10.24918554\n",
      "   10.32049063  10.32262846  10.2112702   10.17053984  10.30899549\n",
      "   10.07249079  10.27614546  10.23727592  10.27574832   9.92266812\n",
      "   10.77579552  10.25832505  10.23126591  10.82554489  10.24445147\n",
      "   10.89378248  10.45333143  10.01831209  10.1488213   10.37733126\n",
      "   10.23302176  10.08581543  10.49297825  10.39173149  10.62706157\n",
      "   10.21541877   9.97166796  10.20884535  10.26826286  10.35330507\n",
      "   10.79051816  10.01945033  10.43850933  10.48856123  10.66247264]\n",
      " [ 10.21852701  10.13856311   9.75476013  10.4047851   10.24281754\n",
      "    9.97502701  10.25883287  10.43349185  10.46775747  10.32664547\n",
      "   10.1127886   10.18091795  10.19434883  10.11880558   9.79503288\n",
      "   10.27356507  10.39978511  10.23564877  10.53696868   9.94112747\n",
      "   10.35021065  10.68953843  10.66133358   9.91469247   9.84269597\n",
      "   10.32764493  10.49967768  10.30893702  10.53086393  10.55293503\n",
      "   10.74951822  10.43861649  10.26464203  10.11279899  10.22373755\n",
      "   10.74312574  10.08668769  10.1332017   10.25289979  10.34177453\n",
      "   10.21752364  10.22508326  10.42445218  10.19562974  10.49377058\n",
      "   10.42885719  10.49443235  10.4541954   10.26364758  10.52369097]\n",
      " [ 10.43103843  10.23709104  10.46007415  10.48705118  10.18947156\n",
      "   10.12760862  10.31699868  10.39351854  10.3426983   10.25533051\n",
      "   10.55284835  10.22349881  10.35964844   9.76848562   9.73796896\n",
      "   10.60312952  10.18424387  10.06147772  10.40931118  10.50239455\n",
      "   10.23595482  10.21591033  10.04828667  10.7462145   10.28703419\n",
      "   10.42300548  10.36324218  10.00359971  10.75963183  10.16380375\n",
      "   10.86183848  10.24654829  10.03346995  10.19033659  10.80112802\n",
      "   10.36066241  10.76538065  10.21133623  10.04440204  10.17371691\n",
      "   10.38275571   9.84442643  10.58800855  10.34498104  10.24723969\n",
      "   10.5167715   10.26065033   9.92765497  10.08680434  10.6238468 ]\n",
      " [ 10.40512838  10.0435192   10.15397795   9.82305304  10.31231885\n",
      "    9.9974114   10.25711811  10.39612979   9.85401666  10.17565137\n",
      "   10.60902296  10.2927426   10.54740908  10.09363703  10.29779734\n",
      "   10.42604545  10.13245397  10.29348536  10.33242909  10.43068206\n",
      "   10.40521413  10.42504798  10.50805434  10.49014443  10.23770843\n",
      "   10.37846908  10.43728464  10.53618011  10.51856931  10.21175561\n",
      "   10.76665825  10.56623546  10.61999694   9.86202656  10.64123877\n",
      "   10.7398293   10.59058175  10.1551096   10.36463477  10.00348518\n",
      "   10.33280037  10.46655811  10.05107163  10.23928309  10.43150182\n",
      "   10.21777601  10.19328046  10.04357424  10.08921053  10.57798286]\n",
      " [ 10.27883819   9.91808294  10.23077717   9.99812886  10.23848235\n",
      "   10.01225551  10.26601908  10.13180303  10.18803034  10.14640168\n",
      "   10.51839695  10.03036732  10.37923315   9.90849828  10.22418308\n",
      "   10.63771116  10.19555669  10.56690336  10.15118451  10.46008335\n",
      "   10.58629334  10.47806172  10.47035538  10.40745919  10.0919081\n",
      "   10.56981656  10.51560309  10.18152776  10.4212481   10.61079314\n",
      "   10.29040632  10.23694431  10.23339877  10.11321824  10.39040231\n",
      "   10.39650168  10.21824459  10.34382989   9.87803541  10.25642619\n",
      "   10.24794746  10.36253986  10.48702185  10.30435787  10.22527346\n",
      "   10.40671061  10.27090477  10.12398263  10.53671009  10.16951911]\n",
      " [ 10.51129773  10.19149993  10.17601416  10.33502188  10.11509254\n",
      "   10.07801467  10.39213762  10.32087944  10.24858979   9.67826804\n",
      "   10.36364678  10.2289939   10.19371607   9.76302538  10.18242671\n",
      "   10.42680973  10.09858552  10.51201709  10.59878455  10.51474833\n",
      "   10.33741375  10.26761438  10.62414464  10.04196374   9.97664059\n",
      "   10.42676029  10.76449428  10.2469325   10.1209322   10.59402059\n",
      "   10.29274106  10.20485543  10.6112543   10.20025743  10.52657718\n",
      "   10.3636923   10.21191054  10.09981855  10.40235278  10.3268388\n",
      "    9.84186111  10.15307194  10.15358386  10.5304723   10.21162867\n",
      "   10.85943722  10.45906987  10.46826678  10.61721929  10.22762649]\n",
      " [ 10.19815057  10.55669639   9.99617649  10.44364915  10.48457393\n",
      "   10.53277144  10.60875957  10.33155073  10.53046936   9.95925041\n",
      "   10.07090794  10.5385602   10.65115163  10.00018251  10.15210996\n",
      "   10.46666348   9.91231822  10.03940719  10.25078575  10.29559013\n",
      "   10.718847    10.54572232  10.07100222  10.62515162   9.9981156\n",
      "   10.68738896  10.25178666  10.51401936  10.769216    10.05541569\n",
      "   10.5352439   10.5905414   10.348622    10.51019977  10.18005321\n",
      "   10.13925041  10.68866062  10.46912681  10.15686278  10.98054484\n",
      "   10.1853681   10.48061959  10.63975198   9.99857456  10.79883019\n",
      "   10.00955606  10.18840263  10.2767425   10.45019502   9.92475545]\n",
      " [ 10.466032    10.32589231  10.25364725   9.84961982  10.61709868\n",
      "   10.38038425  10.82804919   9.91949303  10.26170413  10.05610766\n",
      "   10.43965107   9.93800951  10.72425246   9.77263022  10.15569277\n",
      "   10.66320013  10.02098956  10.51612881  10.09769117  10.03006439\n",
      "   10.45674223  10.48199386  10.08835472   9.94485529   9.94086168\n",
      "   10.40337594  10.38050392  10.70782013  10.52851175  10.50156995\n",
      "   10.54453284  10.10177971  10.52366523  10.4117049   10.39680328\n",
      "   10.57204093  10.32564664   9.90547631  10.02994219  10.66781046\n",
      "   10.5153273   10.26627915  10.71881173  10.03902465  10.25619325\n",
      "   10.40430267  10.30507403  10.67808749  10.4494634   10.40130814]\n",
      " [ 10.7178635    9.98392244   9.7173845   10.32307422   9.95269404\n",
      "    9.84188916  10.40409165  10.26518276  10.24653815  10.34883084\n",
      "   10.56101067  10.54301743  10.5047051    9.94221367  10.54615484\n",
      "   10.31215901  10.26146628  10.16215258  10.5569272   10.14690528\n",
      "   10.63098568  10.52034241  10.3127681   10.43305439   9.86745524\n",
      "   10.09889918  10.0778578   10.365661    10.34493482  10.30361185\n",
      "   10.6992002   10.38025265  10.78866423  10.28786405  10.51043825\n",
      "   10.3182622   10.4875857   10.65444235   9.82718766  10.36049467\n",
      "   10.26772022  10.15691291  10.39759199  10.16385453  10.61988033\n",
      "   10.11901679  10.38119525  10.47960904  10.71588365  10.24714404]\n",
      " [ 10.44744451  10.12167325  10.22534478  10.63849998  10.50643163\n",
      "    9.85720187  10.17617209  10.13252477   9.96276178  10.36541938\n",
      "   10.50181831  10.30631222  10.1212873   10.22215707   9.90238596\n",
      "   10.55024483  10.02734431  10.41424616  10.16962738  10.09464823\n",
      "   10.39179579  10.3707668   10.34399853  10.24887088  10.22087911\n",
      "   10.20373986  10.44449723  10.11911357  10.08428829  10.06874944\n",
      "   10.13924334   9.91895178  10.05539895  10.52830458  10.70631137\n",
      "   10.48994701  10.48878413  10.27663446  10.0391086   10.43670879\n",
      "   10.36952645  10.3692865   10.70881366   9.85191544  10.48823441\n",
      "   10.23827369  10.46343668  10.56372264  10.5828513   10.03984352]\n",
      " [ 10.58966974  10.12942401   9.92030057  10.13614018  10.39171254\n",
      "   10.23174071  10.33058565  10.26364894  10.0586687   10.43496649\n",
      "   10.29920165  10.35793935  10.42547212  10.14127723  10.66810633\n",
      "   10.31362715  10.0222411   10.81490538   9.98193031  10.10998644\n",
      "   10.56086354  10.5577176   10.42125307  10.21418043  10.1862471\n",
      "   10.57564396  10.47732081  10.33260359  10.40872432  10.25023791\n",
      "   10.75941023  10.44598549  10.20238819  10.49277043  10.64518694\n",
      "   10.04125884  10.42353606  10.49103579   9.85061817  10.22638865\n",
      "   10.01225006   9.91015192  10.40854882  10.32954381  10.39435715\n",
      "   10.7111852   10.33289615  10.306298    10.35403811  10.24273195]\n",
      " [ 10.57162563  10.37289785  10.11398564  10.48029249  10.2941107\n",
      "   10.28495199   9.90623332   9.98233254  10.86696373   9.83203239\n",
      "    9.99735094  10.42717683  10.14006913  10.13618679   9.80335514\n",
      "   10.42979502  10.12429564  10.2202952   10.52362298  10.22718333\n",
      "   10.4256418   10.49009526  10.34220584  10.27999258  10.00736279\n",
      "   10.3768704   10.65697761   9.87613993  10.43902347  10.11042745\n",
      "   10.45333356  10.13269073  10.29497397  10.24986951  10.5705033\n",
      "   10.7070712   10.52555126  10.44079311   9.9752106   10.74589614\n",
      "   10.03168963  10.10342535  10.36669097  10.5061835   10.19910715\n",
      "   10.62814858  10.02555775  10.39714374  10.55488358  10.462143  ]]\n"
     ]
    }
   ],
   "source": [
    "##Normal: Parametros, media, desviacion,tamaño\n",
    "R_2 = np.random.normal(2.3, 0.1, 50)\n",
    "returns_2[0] = R_2\n",
    "assets_1[0] = np.cumprod(R_2)\n",
    "print returns_2"
   ]
  },
  {
   "cell_type": "markdown",
   "metadata": {},
   "source": [
    "The `random` module in NumPy is exceedingly useful. It contains methods for sampling from many different probability distributions, some of which are covered in the [random variables lecture](https://www.quantopian.com/lectures/random-variables) in the Quantopian lecture series. In this case we draw $N = 100$ random samples from a normal distribution with mean $1.01$ and standard deviation $0.03$. We treat these as the daily percentage returns of our asset and take the cumulative product of these samples to get the current price.\n",
    "\n",
    "The way we have generated our universe, the the individual $R_i$ vectors are each 1-dimensional arrays and the `returns` and `assets` variables contain 2-dimensional arrays. Above, we set the initial row of both `returns` and `assets` to be the first $R_i$ vector and the cumulative asset price based on those returns, respectively.\n",
    "\n",
    "We will now use this base asset to create a few other random assets that are correlated with it."
   ]
  },
  {
   "cell_type": "code",
   "execution_count": 39,
   "metadata": {},
   "outputs": [],
   "source": [
    "# Generate assets that are correlated with R_1\n",
    "for i in range(1, N):\n",
    "    R_i = R_1 + np.random.normal(0.001, 0.02, 100)\n",
    "    returns[i] = R_i # Set each row of returns equal to the new R_i array\n",
    "    assets[i] = np.cumprod(R_i)\n",
    "    \n",
    "mean_returns = [(np.mean(R) - 1)*100 for R in returns]\n",
    "return_volatilities = [np.std(R) for R in returns]"
   ]
  },
  {
   "cell_type": "code",
   "execution_count": 53,
   "metadata": {},
   "outputs": [],
   "source": [
    "for i in range(1, N_2):\n",
    "    R_i2 = R_2 + np.random.normal(2.01, 0.22, 50)\n",
    "    returns_2[i] = R_i2 # Set each row of returns equal to the new R_i array\n",
    "    assets_1[i] = np.cumprod(R_i2)\n",
    "    \n",
    "mean_returns_2 = [(np.mean(R_4) - 1)*100 for R_4 in returns_2]\n",
    "return_volatilities_2 = [np.std(R_4) for R_4 in returns_2]"
   ]
  },
  {
   "cell_type": "markdown",
   "metadata": {},
   "source": [
    "Here we generate the remaining $N - 1$ securities that we want in our universe by adding random noise to $R_1$. This ensures that our $N - 1$ other assets will be correlated with the base asset because they have some underlying information that is shared.\n",
    "\n",
    "Let's plot what the mean return of each asset looks like:"
   ]
  },
  {
   "cell_type": "code",
   "execution_count": 21,
   "metadata": {
    "scrolled": false
   },
   "outputs": [
    {
     "data": {
      "image/png": "[encoded data removed]",
      "text/plain": [
       "<matplotlib.figure.Figure at 0x7f4c838c32d0>"
      ]
     },
     "metadata": {},
     "output_type": "display_data"
    }
   ],
   "source": [
    "plt.bar(np.arange(len(mean_returns)), mean_returns)\n",
    "plt.xlabel('Stock')\n",
    "plt.ylabel('Returns')\n",
    "plt.title('Returns for {0} Random Assets'.format(N));"
   ]
  },
  {
   "cell_type": "code",
   "execution_count": 54,
   "metadata": {},
   "outputs": [
    {
     "data": {
      "image/png": "[encoded data removed]",
      "text/plain": [
       "<Figure size 1008x576 with 1 Axes>"
      ]
     },
     "metadata": {},
     "output_type": "display_data"
    }
   ],
   "source": [
    "plt.bar(np.arange(len(mean_returns_2)), mean_returns_2)\n",
    "plt.xlabel('Stock')\n",
    "plt.ylabel('Returns_2')\n",
    "plt.title('Returns for {0} Random Assets'.format(N_2));"
   ]
  },
  {
   "cell_type": "markdown",
   "metadata": {},
   "source": [
    "### Calculating Expected Return\n",
    "\n",
    "So we have a universe of stocks. Great! Now let's put them together in a portfolio and calculate its expected return and risk.\n",
    "\n",
    "We will start off by generating $N$ random weights for each asset in our portfolio."
   ]
  },
  {
   "cell_type": "code",
   "execution_count": 55,
   "metadata": {},
   "outputs": [],
   "source": [
    "weights = np.random.uniform(0, 1, N)\n",
    "weights = weights/np.sum(weights)"
   ]
  },
  {
   "cell_type": "code",
   "execution_count": 56,
   "metadata": {},
   "outputs": [],
   "source": [
    "weights_2 = np.random.uniform(0, 1, N_2)\n",
    "weights_2 = weights_2/np.sum(weights_2)"
   ]
  },
  {
   "cell_type": "markdown",
   "metadata": {},
   "source": [
    "We have to rescale the weights so that they all add up to $1$. We do this by scaling the weights vector by the sum total of all the weights. This step ensures that we will be using $100\\%$ of the portfolio's cash.\n",
    "\n",
    "To calculate the mean return of the portfolio, we have to scale each asset's return by its designated weight. We can pull each element of each array and multiply them individually, but it's quicker to use NumPy's linear algebra methods. The function that we want is `dot()`. This will calculate the dot product between two arrays for us. So if $v = \\left[ 1, 2, 3 \\right]$ and $w = \\left[4, 5, 6 \\right]$, then:\n",
    "\n",
    "$$ v \\cdot w = 1 \\times 4 + 2 \\times 5 + 3 \\times 6 $$\n",
    "\n",
    "For a one-dimensional vector, the dot product will multiply each element pointwise and add all the products together! In our case, we have a vector of weights, $\\omega = \\left[ \\omega_1, \\omega_2, \\dots \\omega_N\\right]$ and a vector of returns, $\\mu = \\left[ \\mu_1, \\mu_2, \\dots, \\mu_N\\right]$. If we take the dot product of these two we will get:\n",
    "\n",
    "$$ \\omega \\cdot \\mu = \\omega_1\\mu_1 + \\omega_2\\mu_2 + \\dots + \\omega_N\\mu_N = \\mu_P $$\n",
    "\n",
    "This yields the sum of all the asset returns scaled by their respective weights. This the the portfolio's overall expected return!"
   ]
  },
  {
   "cell_type": "code",
   "execution_count": 23,
   "metadata": {},
   "outputs": [
    {
     "name": "stdout",
     "output_type": "stream",
     "text": [
      "Expected return of the portfolio:  0.938249456527\n"
     ]
    }
   ],
   "source": [
    "p_returns = np.dot(weights, mean_returns)\n",
    "print \"Expected return of the portfolio: \", p_returns"
   ]
  },
  {
   "cell_type": "code",
   "execution_count": 57,
   "metadata": {},
   "outputs": [
    {
     "name": "stdout",
     "output_type": "stream",
     "text": [
      "Expected return of the portfolio:  313.101430339\n"
     ]
    }
   ],
   "source": [
    "p_returns_2 = np.dot(weights_2, mean_returns_2)\n",
    "print \"Expected return of the portfolio: \", p_returns_2"
   ]
  },
  {
   "cell_type": "markdown",
   "metadata": {},
   "source": [
    "Calculating the mean return is fairly intuitive and does not require too much explanation of linear algebra. However, calculating the variance of our portfolio requires a bit more background."
   ]
  },
  {
   "cell_type": "markdown",
   "metadata": {},
   "source": [
    "#### Beware of NaN values\n",
    "\n",
    "Most of the time, all of these calculations will work without an issue. However, when working with real data we run the risk of having `nan` values in our arrays. This is NumPy's way of saying that the data there is missing or doesn't exist. These `nan` values can lead to errors in mathematical calculations so it is important to be aware of whether your array contains `nan` values and to know how to drop them."
   ]
  },
  {
   "cell_type": "code",
   "execution_count": 67,
   "metadata": {},
   "outputs": [
    {
     "name": "stdout",
     "output_type": "stream",
     "text": [
      "[  1.   2.  nan   4.   5.]\n"
     ]
    }
   ],
   "source": [
    "v = np.array([1, 2, np.nan, 4, 5])\n",
    "print v"
   ]
  },
  {
   "cell_type": "code",
   "execution_count": 59,
   "metadata": {},
   "outputs": [
    {
     "name": "stdout",
     "output_type": "stream",
     "text": [
      "[  1.   2.   3.   4.   5.   6.   7.   8.  nan  nan]\n"
     ]
    }
   ],
   "source": [
    "nan = np.array([1, 2,3, 4, 5,6,7,8,np.nan,np.nan])\n",
    "print nan"
   ]
  },
  {
   "cell_type": "markdown",
   "metadata": {},
   "source": [
    "Let's see what happens when we try to take the mean of this array."
   ]
  },
  {
   "cell_type": "code",
   "execution_count": 68,
   "metadata": {},
   "outputs": [
    {
     "name": "stdout",
     "output_type": "stream",
     "text": [
      "nan\n"
     ]
    }
   ],
   "source": [
    "print np.mean(v)"
   ]
  },
  {
   "cell_type": "code",
   "execution_count": 60,
   "metadata": {},
   "outputs": [
    {
     "name": "stdout",
     "output_type": "stream",
     "text": [
      "nan\n"
     ]
    }
   ],
   "source": [
    "print np.mean(nan)"
   ]
  },
  {
   "cell_type": "markdown",
   "metadata": {},
   "source": [
    "Clearly, `nan` values can have a large impact on our calculations. Fortunately, we can check for `nan` values with the `isnan()` function."
   ]
  },
  {
   "cell_type": "code",
   "execution_count": 69,
   "metadata": {},
   "outputs": [
    {
     "data": {
      "text/plain": [
       "array([False, False,  True, False, False], dtype=bool)"
      ]
     },
     "execution_count": 69,
     "metadata": {},
     "output_type": "execute_result"
    }
   ],
   "source": [
    "np.isnan(v)"
   ]
  },
  {
   "cell_type": "code",
   "execution_count": 61,
   "metadata": {},
   "outputs": [
    {
     "data": {
      "text/plain": [
       "array([False, False, False, False, False, False, False, False,  True,  True], dtype=bool)"
      ]
     },
     "execution_count": 61,
     "metadata": {},
     "output_type": "execute_result"
    }
   ],
   "source": [
    "np.isnan(nan)"
   ]
  },
  {
   "cell_type": "markdown",
   "metadata": {},
   "source": [
    "Calling `isnan()` on an array will call the function on each value of the array, returning a value of `True` if the element is `nan` and `False` if the element is valid. Now, knowing whether your array contains `nan` values is all well and good, but how do we remove `nan`s? Handily enough, NumPy arrays can be indexed by boolean values (`True` or `False`). If we use a boolean array to index an array, we will remove all values of the array that register as `False` under the condition. We use the `isnan()` function in create a boolean array, assigning a `True` value to everything that is *not* `nan` and a `False` to the `nan`s and we use that to index the same array."
   ]
  },
  {
   "cell_type": "code",
   "execution_count": 70,
   "metadata": {},
   "outputs": [
    {
     "name": "stdout",
     "output_type": "stream",
     "text": [
      "[ True  True False  True  True]\n",
      "[ 1.  2.  4.  5.]\n"
     ]
    }
   ],
   "source": [
    "ix = ~np.isnan(v) # the ~ indicates a logical not, inverting the bools\n",
    "print ix\n",
    "print v[ix] # We can also just write v = v[~np.isnan(v)]"
   ]
  },
  {
   "cell_type": "code",
   "execution_count": 62,
   "metadata": {},
   "outputs": [
    {
     "name": "stdout",
     "output_type": "stream",
     "text": [
      "[ 1.  2.  3.  4.  5.  6.  7.  8.]\n"
     ]
    }
   ],
   "source": [
    "ix_2 = ~np.isnan(nan) \n",
    "print nan[ix_2] "
   ]
  },
  {
   "cell_type": "code",
   "execution_count": 71,
   "metadata": {},
   "outputs": [
    {
     "name": "stdout",
     "output_type": "stream",
     "text": [
      "3.0\n"
     ]
    }
   ],
   "source": [
    "print np.mean(v[ix])"
   ]
  },
  {
   "cell_type": "code",
   "execution_count": 63,
   "metadata": {},
   "outputs": [
    {
     "name": "stdout",
     "output_type": "stream",
     "text": [
      "4.5\n"
     ]
    }
   ],
   "source": [
    "print np.mean(nan[ix_2])"
   ]
  },
  {
   "cell_type": "markdown",
   "metadata": {},
   "source": [
    "There are a few shortcuts to this process in the form of NumPy functions specifically built to handle them, such as `nanmean()`."
   ]
  },
  {
   "cell_type": "code",
   "execution_count": 29,
   "metadata": {},
   "outputs": [
    {
     "name": "stdout",
     "output_type": "stream",
     "text": [
      "3.0\n"
     ]
    }
   ],
   "source": [
    "print np.nanmean(v)"
   ]
  },
  {
   "cell_type": "code",
   "execution_count": 72,
   "metadata": {},
   "outputs": [
    {
     "name": "stdout",
     "output_type": "stream",
     "text": [
      "4.5\n"
     ]
    }
   ],
   "source": [
    "print(np.nanmean(nan))"
   ]
  },
  {
   "cell_type": "markdown",
   "metadata": {},
   "source": [
    "The `nanmean()` function simply calculates the mean of the array as if there were no `nan` values at all! There are a few more of these functions, so feel free to read more about them in the [documentation](https://docs.scipy.org/doc/numpy/user/index.html). These indeterminate values are more an issue with data than linear algebra itself so it is helpful that there are ways to handle them."
   ]
  },
  {
   "cell_type": "markdown",
   "metadata": {},
   "source": [
    "### Conclusion\n",
    "\n",
    "Linear algebra is pervasive in finance and in general. For example, the calculation of *optimal* weights according to modern portfolio theory is done using linear algebra techniques. The arrays and functions in NumPy allow us to handle these calculations in an intuitive way. For a quick intro to linear algebra and how to use NumPy to do more significant matrix calculations, proceed to the next section."
   ]
  },
  {
   "cell_type": "markdown",
   "metadata": {},
   "source": [
    "## A brief foray into linear algebra\n",
    "\n",
    "Let's start with a basic overview of some linear algebra. Linear algebra comes down to the multiplication and composition of scalar and matrix values. A scalar value is just a real number that we multiply against an array. When we scale a matrix or array using a scalar, we multiply each individual element of that matrix or array by the scalar.\n",
    "\n",
    "A matrix is a collection of values, typically represented by an $m \\times n$ grid, where $m$ is the number of rows and $n$ is the number of columns. The edge lengths $m$ and $n$ do not necessarily have to be different. If we have $m = n$, we call this a square matrix. A particularly interesting case of a matrix is when $m = 1$ or $n = 1$. In this case we have a special case of a matrix that we call a vector. While there is a matrix object in NumPy we will be doing everything using NumPy arrays because they can have dimensions greater than $2$. For the purpose of this section, we will be using matrix and array interchangeably.\n",
    "\n",
    "We can express the matrix equation as:\n",
    "\n",
    "$$ y = A\\cdot x $$\n",
    "\n",
    "Where $A$ is an $m \\times n$ matrix, $y$ is a $m \\times 1$ vector, and $x$ is a $n \\times 1$ vector. On the right-hand side of the equation we are multiplying a matrix by a vector. This requires a little bit more clarification, lest we think that we can go about multiplying any matrices by any other matrices.\n",
    "\n",
    "#### Matrix multiplication\n",
    "\n",
    "With matrix multiplication, the order in which the matrices are multiplied matters. Multiplying a matrix on the left side by another matrix may be just fine, but multiplying on the right may be undefined."
   ]
  },
  {
   "cell_type": "code",
   "execution_count": 30,
   "metadata": {
    "collapsed": true
   },
   "outputs": [],
   "source": [
    "A = np.array([\n",
    "        [1, 2, 3, 12, 6],\n",
    "        [4, 5, 6, 15, 20],\n",
    "        [7, 8, 9, 10, 10]        \n",
    "    ])\n",
    "B = np.array([\n",
    "        [4, 4, 2],\n",
    "        [2, 3, 1],\n",
    "        [6, 5, 8],\n",
    "        [9, 9, 9]\n",
    "    ])"
   ]
  },
  {
   "cell_type": "code",
   "execution_count": 73,
   "metadata": {},
   "outputs": [],
   "source": [
    "C = np.array([\n",
    "        [17, 26, 34],\n",
    "        [47, 85, 36],\n",
    "        [67, 38, 91]        \n",
    "    ])\n",
    "D = np.array([\n",
    "        [26, 55, 87],\n",
    "        [29, 93, 98]\n",
    "    ])"
   ]
  },
  {
   "cell_type": "markdown",
   "metadata": {},
   "source": [
    "Notice that the above-defined matrices, $A$ and $B$, have different dimensions. $A$ is $3 \\times 5$ and $B$ is $4 \\times 3$. The general rule of what can and cannot be multiplied in which order is based on the dimensions of the matrices. Specifically, the number of columns in the matrix on the left must be equal to the number of rows in the matrix on the right. In super informal terms, let's say that we have an $m \\times n$ matrix and a $p \\times q$ matrix. If we multiply the first by the second on the right, we get the following:\n",
    "\n",
    "$$ (m \\times n) \\cdot (p \\times q) = (m \\times q) $$\n",
    "\n",
    "So the resultant product has the same number of rows as the left matrix and the same number of columns as the right matrix. This limitation of matrix multiplication with regards to dimensions is important to keep track of when writing code. To demonstrate this, we use the `dot()` function to multiply our matrices below:"
   ]
  },
  {
   "cell_type": "code",
   "execution_count": 74,
   "metadata": {},
   "outputs": [
    {
     "ename": "ValueError",
     "evalue": "shapes (2,2) and (3,3) not aligned: 2 (dim 1) != 3 (dim 0)",
     "output_type": "error",
     "traceback": [
      "\u001b[0;31m---------------------------------------------------------------------------\u001b[0m",
      "\u001b[0;31mValueError\u001b[0m                                Traceback (most recent call last)",
      "\u001b[0;32m<ipython-input-74-c4010e250c2c>\u001b[0m in \u001b[0;36m<module>\u001b[0;34m()\u001b[0m\n\u001b[0;32m----> 1\u001b[0;31m \u001b[0mprint\u001b[0m\u001b[0;34m(\u001b[0m\u001b[0mnp\u001b[0m\u001b[0;34m.\u001b[0m\u001b[0mdot\u001b[0m\u001b[0;34m(\u001b[0m\u001b[0mA\u001b[0m\u001b[0;34m,\u001b[0m \u001b[0mB\u001b[0m\u001b[0;34m)\u001b[0m\u001b[0;34m)\u001b[0m\u001b[0;34m\u001b[0m\u001b[0m\n\u001b[0m",
      "\u001b[0;31mValueError\u001b[0m: shapes (2,2) and (3,3) not aligned: 2 (dim 1) != 3 (dim 0)"
     ]
    }
   ],
   "source": [
    "print np.dot(A, B)"
   ]
  },
  {
   "cell_type": "code",
   "execution_count": 75,
   "metadata": {},
   "outputs": [
    {
     "ename": "ValueError",
     "evalue": "shapes (3,3) and (2,3) not aligned: 3 (dim 1) != 2 (dim 0)",
     "output_type": "error",
     "traceback": [
      "\u001b[0;31m---------------------------------------------------------------------------\u001b[0m",
      "\u001b[0;31mValueError\u001b[0m                                Traceback (most recent call last)",
      "\u001b[0;32m<ipython-input-75-887cdfe98a72>\u001b[0m in \u001b[0;36m<module>\u001b[0;34m()\u001b[0m\n\u001b[0;32m----> 1\u001b[0;31m \u001b[0mprint\u001b[0m\u001b[0;34m(\u001b[0m\u001b[0mnp\u001b[0m\u001b[0;34m.\u001b[0m\u001b[0mdot\u001b[0m \u001b[0;34m(\u001b[0m\u001b[0mC\u001b[0m\u001b[0;34m,\u001b[0m\u001b[0mD\u001b[0m\u001b[0;34m)\u001b[0m\u001b[0;34m)\u001b[0m\u001b[0;34m\u001b[0m\u001b[0m\n\u001b[0m",
      "\u001b[0;31mValueError\u001b[0m: shapes (3,3) and (2,3) not aligned: 3 (dim 1) != 2 (dim 0)"
     ]
    }
   ],
   "source": [
    "print np.dot (C,D)"
   ]
  },
  {
   "cell_type": "markdown",
   "metadata": {},
   "source": [
    "These results make sense in accordance with our rule. Multiplying a $3 \\times 5$ matrix on the right by a $4 \\times 3$ matrix results in an error while multiplying a $4 \\times 3$ matrix on the right by a $3 \\times 5$ matrix results in a $4 \\times 5$ matrix."
   ]
  },
  {
   "cell_type": "code",
   "execution_count": 32,
   "metadata": {},
   "outputs": [
    {
     "name": "stdout",
     "output_type": "stream",
     "text": [
      "[[ 34  44  54 128 124]\n",
      " [ 21  27  33  79  82]\n",
      " [ 82 101 120 227 216]\n",
      " [108 135 162 333 324]]\n"
     ]
    }
   ],
   "source": [
    "print np.dot(B, A)"
   ]
  },
  {
   "cell_type": "code",
   "execution_count": 76,
   "metadata": {},
   "outputs": [
    {
     "name": "stdout",
     "output_type": "stream",
     "text": [
      "[[ 8856  8657 10781]\n",
      " [11430 12383 13252]]\n"
     ]
    }
   ],
   "source": [
    "print np.dot (D,C)"
   ]
  },
  {
   "cell_type": "markdown",
   "metadata": {},
   "source": [
    "### Portfolio Variance\n",
    "\n",
    "Let's return to our portfolio example from before. We calculated the expected return of the portfolio, but how do we calculate the variance? We start by trying to evaluate the portfolio as a sum of each individual asset, scaled by it's weight.\n",
    "\n",
    "$$ VAR[P] = VAR[\\omega_1 S_1 + \\omega_2 S_2 + \\cdots + \\omega_N S_N] $$\n",
    "\n",
    "Where $S_0, \\cdots, S_N$ are the assets contained within our universe. If all of our assets were independent of each other, we could simply evaluate this as\n",
    "\n",
    "$$ VAR[P] = VAR[\\omega_1 S_1] + VAR[\\omega_2 S_2] + \\cdots + VAR[\\omega_N S_N] = \\omega_1^2\\sigma_1^2 + \\omega_2^2\\sigma_2^2 + \\cdots + \\omega_N^2\\sigma_N^2 $$\n",
    "\n",
    "However, all of our assets depend on each other by their construction. They are all in some way related to our base asset and therefore each other. We thus have to calculate the variance of the portfolio by including the individual pairwise covariances of each asset. Our formula for the variance of the portfolio:\n",
    "\n",
    "$$ VAR[P] = \\sigma_P^2 = \\sum_i \\omega_i^2\\sigma_i^2 + \\sum_i\\sum_{i\\neq j} \\omega_i\\omega_j\\sigma_i\\sigma_j\\rho_{i, j}, \\ i, j \\in \\lbrace 1, 2, \\cdots, N \\rbrace $$\n",
    "\n",
    "Where $\\rho_{i,j}$ is the correlation between $S_i$ and $S_j$, $\\rho_{i, j} = \\frac{COV[S_i, S_j]}{\\sigma_i\\sigma_j}$. This seems exceedingly complicated, but we can easily handle all of this using NumPy arrays. First, we calculate the covariance matrix that relates all the individual stocks in our universe."
   ]
  },
  {
   "cell_type": "code",
   "execution_count": 33,
   "metadata": {},
   "outputs": [
    {
     "name": "stdout",
     "output_type": "stream",
     "text": [
      "[[ 0.00086058  0.00089203  0.00090705  0.00097867  0.00079707  0.00085327\n",
      "   0.00076728  0.00093279  0.00085655  0.00076459]\n",
      " [ 0.00089203  0.00133583  0.00097512  0.00099617  0.00082914  0.00089555\n",
      "   0.00087399  0.00092142  0.00080857  0.00083485]\n",
      " [ 0.00090705  0.00097512  0.00134549  0.00106267  0.00082659  0.00087943\n",
      "   0.00081558  0.00101182  0.0008822   0.00079261]\n",
      " [ 0.00097867  0.00099617  0.00106267  0.00151787  0.00094079  0.0010231\n",
      "   0.00086453  0.00106496  0.00100924  0.00090792]\n",
      " [ 0.00079707  0.00082914  0.00082659  0.00094079  0.00109599  0.00077462\n",
      "   0.00071631  0.00089835  0.00081464  0.00073657]\n",
      " [ 0.00085327  0.00089555  0.00087943  0.0010231   0.00077462  0.00124298\n",
      "   0.00072712  0.00096373  0.00078529  0.00079774]\n",
      " [ 0.00076728  0.00087399  0.00081558  0.00086453  0.00071631  0.00072712\n",
      "   0.00107769  0.0007624   0.00076273  0.00066191]\n",
      " [ 0.00093279  0.00092142  0.00101182  0.00106496  0.00089835  0.00096373\n",
      "   0.0007624   0.00141976  0.00086849  0.00085365]\n",
      " [ 0.00085655  0.00080857  0.0008822   0.00100924  0.00081464  0.00078529\n",
      "   0.00076273  0.00086849  0.00135418  0.00070977]\n",
      " [ 0.00076459  0.00083485  0.00079261  0.00090792  0.00073657  0.00079774\n",
      "   0.00066191  0.00085365  0.00070977  0.00106124]]\n"
     ]
    }
   ],
   "source": [
    "cov_mat = np.cov(returns)\n",
    "print cov_mat"
   ]
  },
  {
   "cell_type": "code",
   "execution_count": 77,
   "metadata": {},
   "outputs": [
    {
     "name": "stdout",
     "output_type": "stream",
     "text": [
      "[[  1.24444193e-02   1.34596040e-02   1.61979314e-02   1.64025610e-02\n",
      "    1.32372019e-02   8.97154054e-03   1.22852355e-02   1.51480175e-02\n",
      "    1.88630225e-02   1.76015507e-02   1.39356575e-02   1.12787157e-02\n",
      "    1.09125154e-02   1.50606886e-02   1.41659179e-02]\n",
      " [  1.34596040e-02   5.07990964e-02   1.54876219e-02   1.98421870e-02\n",
      "    4.63430299e-03  -4.04898448e-05   1.27185217e-02   9.47047641e-03\n",
      "    2.15150530e-02   1.86688538e-02   9.38628102e-03   1.45192509e-02\n",
      "    9.18033815e-03   1.27238543e-02   2.84775397e-02]\n",
      " [  1.61979314e-02   1.54876219e-02   6.98664294e-02   2.49346485e-02\n",
      "    1.73186499e-02   2.14758574e-02   1.60879821e-02   2.02504886e-02\n",
      "    2.33282336e-02   1.93740691e-02   1.19056009e-02   1.33299379e-02\n",
      "    2.03391200e-02   1.54161876e-02   1.26215877e-02]\n",
      " [  1.64025610e-02   1.98421870e-02   2.49346485e-02   6.73337270e-02\n",
      "    2.24089972e-02   1.49534328e-02   2.72974951e-02   1.28982464e-02\n",
      "    2.51382381e-02   2.86305059e-02   1.15473783e-02   1.66327518e-02\n",
      "    1.49361873e-02   1.77302312e-02   2.12475556e-02]\n",
      " [  1.32372019e-02   4.63430299e-03   1.73186499e-02   2.24089972e-02\n",
      "    6.61059838e-02   1.61523336e-02   9.66560672e-03   2.57691945e-02\n",
      "    2.26395970e-02   3.39263354e-02   1.17504842e-02   6.13456742e-03\n",
      "    1.34359980e-02   5.92314671e-03   5.87291350e-03]\n",
      " [  8.97154054e-03  -4.04898448e-05   2.14758574e-02   1.49534328e-02\n",
      "    1.61523336e-02   4.60152114e-02   2.66012229e-03   6.46750422e-03\n",
      "    7.80344228e-03   2.20552622e-02   2.67100767e-03   1.23458413e-02\n",
      "    6.48831787e-03   5.95637356e-03   1.61437736e-02]\n",
      " [  1.22852355e-02   1.27185217e-02   1.60879821e-02   2.72974951e-02\n",
      "    9.66560672e-03   2.66012229e-03   4.96822491e-02   1.77003265e-02\n",
      "    2.34546724e-02   6.96626495e-03   2.49857010e-02   9.58844763e-03\n",
      "    1.39037295e-02   9.12264672e-03   1.04180366e-02]\n",
      " [  1.51480175e-02   9.47047641e-03   2.02504886e-02   1.28982464e-02\n",
      "    2.57691945e-02   6.46750422e-03   1.77003265e-02   7.62150024e-02\n",
      "    3.01612192e-02   1.06499995e-02   3.26959248e-02   7.06248404e-03\n",
      "    7.96057213e-03   4.97428574e-03   1.67431932e-02]\n",
      " [  1.88630225e-02   2.15150530e-02   2.33282336e-02   2.51382381e-02\n",
      "    2.26395970e-02   7.80344228e-03   2.34546724e-02   3.01612192e-02\n",
      "    7.36810666e-02   2.32299963e-02   2.03689374e-02   1.97302405e-02\n",
      "    6.96965454e-03   2.22559616e-02   2.63552785e-02]\n",
      " [  1.76015507e-02   1.86688538e-02   1.93740691e-02   2.86305059e-02\n",
      "    3.39263354e-02   2.20552622e-02   6.96626495e-03   1.06499995e-02\n",
      "    2.32299963e-02   7.23917935e-02   7.84887108e-03   9.41401721e-03\n",
      "    2.04881399e-02   1.31559721e-02   2.42921453e-02]\n",
      " [  1.39356575e-02   9.38628102e-03   1.19056009e-02   1.15473783e-02\n",
      "    1.17504842e-02   2.67100767e-03   2.49857010e-02   3.26959248e-02\n",
      "    2.03689374e-02   7.84887108e-03   6.80483949e-02   1.19555871e-02\n",
      "   -1.86281102e-04   1.35117053e-02   1.75163447e-02]\n",
      " [  1.12787157e-02   1.45192509e-02   1.33299379e-02   1.66327518e-02\n",
      "    6.13456742e-03   1.23458413e-02   9.58844763e-03   7.06248404e-03\n",
      "    1.97302405e-02   9.41401721e-03   1.19555871e-02   4.96071024e-02\n",
      "    8.22216089e-04   1.50543036e-02   1.26418683e-02]\n",
      " [  1.09125154e-02   9.18033815e-03   2.03391200e-02   1.49361873e-02\n",
      "    1.34359980e-02   6.48831787e-03   1.39037295e-02   7.96057213e-03\n",
      "    6.96965454e-03   2.04881399e-02  -1.86281102e-04   8.22216089e-04\n",
      "    6.68536095e-02   8.89935091e-03   5.19798684e-03]\n",
      " [  1.50606886e-02   1.27238543e-02   1.54161876e-02   1.77302312e-02\n",
      "    5.92314671e-03   5.95637356e-03   9.12264672e-03   4.97428574e-03\n",
      "    2.22559616e-02   1.31559721e-02   1.35117053e-02   1.50543036e-02\n",
      "    8.89935091e-03   5.96338198e-02   1.96548857e-02]\n",
      " [  1.41659179e-02   2.84775397e-02   1.26215877e-02   2.12475556e-02\n",
      "    5.87291350e-03   1.61437736e-02   1.04180366e-02   1.67431932e-02\n",
      "    2.63552785e-02   2.42921453e-02   1.75163447e-02   1.26418683e-02\n",
      "    5.19798684e-03   1.96548857e-02   6.31400616e-02]]\n"
     ]
    }
   ],
   "source": [
    "cov_mat2 = np.cov(returns_2)\n",
    "print cov_mat2"
   ]
  },
  {
   "cell_type": "markdown",
   "metadata": {},
   "source": [
    "This array is not formatted particularly nicely, but a covariance matrix is a very important concept. The covariance matrix is of the form:\n",
    "\n",
    "$$ \\left[\\begin{matrix}\n",
    "VAR[S_1] & COV[S_1, S_2] & \\cdots & COV[S_1, S_N] \\\\\n",
    "COV[S_2, S_1] & VAR[S_2] & \\cdots & COV[S_2, S_N] \\\\\n",
    "\\vdots & \\vdots & \\ddots & \\vdots \\\\\n",
    "COV[S_N, S_1] & COV[S_N, S_2] & \\cdots & VAR[S_N]\n",
    "\\end{matrix}\\right] $$\n",
    "\n",
    "So each diagonal entry is the variance of that asset at that index and each off-diagonal holds the covariance of two assets indexed by the column and row number. What is important is that once we have the covariance matrix we are able to do some very quick linear algebra to calculate the variance of the overall portfolio. We can represent the variance of the portfolio in array form as:\n",
    "\n",
    "$$ \\sigma_p^2 = \\omega \\ C \\ \\omega^\\intercal$$\n",
    "\n",
    "Where $C$ is the covariance matrix of all the assets and $\\omega$ is the array containing the weights of each individual asset. The superscript $\\intercal$ on the second $\\omega$ listed above denotes the **transpose** of $\\omega$. For a reference on the evaluation of the variance of a portfolio as a matrix equation, please see the Wikipedia article on [modern portfolio theory](https://en.wikipedia.org/wiki/Modern_portfolio_theory).\n",
    "\n",
    "The transpose of an array is what you get when you switch the rows and columns of an array. This has the effect of reflecting an array across what you might imagine as a diagonal. For example, take our array $A$ from before:"
   ]
  },
  {
   "cell_type": "code",
   "execution_count": 34,
   "metadata": {},
   "outputs": [
    {
     "name": "stdout",
     "output_type": "stream",
     "text": [
      "[[ 1  2  3 12  6]\n",
      " [ 4  5  6 15 20]\n",
      " [ 7  8  9 10 10]]\n"
     ]
    }
   ],
   "source": [
    "print A"
   ]
  },
  {
   "cell_type": "code",
   "execution_count": 78,
   "metadata": {},
   "outputs": [
    {
     "name": "stdout",
     "output_type": "stream",
     "text": [
      "[[26 55 87]\n",
      " [29 93 98]]\n"
     ]
    }
   ],
   "source": [
    "print D"
   ]
  },
  {
   "cell_type": "markdown",
   "metadata": {},
   "source": [
    "The transpose looks like a mirror image of the same array."
   ]
  },
  {
   "cell_type": "code",
   "execution_count": 35,
   "metadata": {},
   "outputs": [
    {
     "name": "stdout",
     "output_type": "stream",
     "text": [
      "[[ 1  4  7]\n",
      " [ 2  5  8]\n",
      " [ 3  6  9]\n",
      " [12 15 10]\n",
      " [ 6 20 10]]\n"
     ]
    }
   ],
   "source": [
    "print np.transpose(A)"
   ]
  },
  {
   "cell_type": "code",
   "execution_count": 79,
   "metadata": {},
   "outputs": [
    {
     "name": "stdout",
     "output_type": "stream",
     "text": [
      "[[26 29]\n",
      " [55 93]\n",
      " [87 98]]\n"
     ]
    }
   ],
   "source": [
    "print np.transpose(D)"
   ]
  },
  {
   "cell_type": "markdown",
   "metadata": {},
   "source": [
    "But $\\omega$ here is a 1-dimensional array, a vector! It makes perfect to take the transpose of $A$, a $3 \\times 5$ array, as the output will be a $5 \\times 3$ array, but a 1-dimensional array is not quite as intuitive. A typical 1-dimensional array can be thought of as a $1 \\times n$ horizontal vector. Thus, taking the tranpose of this array essentially means changing it into a $n \\times 1$ vertical vector. This makes sense because 1-dimensional arrays are still arrays and any multiplication done between 1-dimensional and higher dimensional arrays must keep in line with our dimensionality issue of matrix multiplication.\n",
    "\n",
    "To make a long story short, we think of $\\omega$ as $1 \\times N$ since we have $N$ securities. This makes it so that $\\omega^\\intercal$ is $N \\times 1$. Again, our covariance matrix is $N \\times N$. So the overall multiplication works out like so, in informal terms:\n",
    "\n",
    "$$ \\text{Dimensions}(\\sigma_p^2) = \\text{Dimensions}(\\omega C \\omega^\\intercal) = (1 \\times N)\\cdot (N \\times N)\\cdot (N \\times 1) = (1 \\times 1)$$\n",
    "\n",
    "Multiplying the covariance matrix on the left by the plain horizontal vector and on the right by that vector's transpose results in the calculation of a single scalar ($1 \\times 1$) value, our portfolio's variance.\n",
    "\n",
    "So knowing this, let's proceed and calculate the portfolio variance! We can easily calculate the product of these arrays by using `dot()` for matrix multiplication, though this time we have to do it twice."
   ]
  },
  {
   "cell_type": "code",
   "execution_count": 36,
   "metadata": {
    "scrolled": false
   },
   "outputs": [
    {
     "name": "stdout",
     "output_type": "stream",
     "text": [
      "Portfolio volatility:  0.0297400694577\n"
     ]
    }
   ],
   "source": [
    "# Calculating the portfolio volatility\n",
    "var_p = np.dot(np.dot(weights, cov_mat), weights.T)\n",
    "vol_p = np.sqrt(var_p)\n",
    "print \"Portfolio volatility: \", vol_p"
   ]
  },
  {
   "cell_type": "code",
   "execution_count": 80,
   "metadata": {},
   "outputs": [
    {
     "name": "stdout",
     "output_type": "stream",
     "text": [
      "Portfolio volatility:  0.138711241561\n"
     ]
    }
   ],
   "source": [
    "var_p_2 = np.dot(np.dot(weights_2, cov_mat2), weights_2.T)\n",
    "vol_p_2 = np.sqrt(var_p_2)\n",
    "print \"Portfolio volatility: \", vol_p_2"
   ]
  },
  {
   "cell_type": "markdown",
   "metadata": {},
   "source": [
    "To confirm this calculation, let's simply evaluate the volatility of the portfolio using only NumPy functions."
   ]
  },
  {
   "cell_type": "code",
   "execution_count": 37,
   "metadata": {},
   "outputs": [
    {
     "name": "stdout",
     "output_type": "stream",
     "text": [
      "Portfolio volatility:  0.0297400694577\n"
     ]
    }
   ],
   "source": [
    "# Confirming calculation\n",
    "vol_p_alt = np.sqrt(np.var(np.dot(weights, returns), ddof=1))\n",
    "print \"Portfolio volatility: \", vol_p_alt"
   ]
  },
  {
   "cell_type": "code",
   "execution_count": 81,
   "metadata": {},
   "outputs": [
    {
     "name": "stdout",
     "output_type": "stream",
     "text": [
      "Portfolio volatility:  0.138711241561\n"
     ]
    }
   ],
   "source": [
    "vol_p_alt_2 = np.sqrt(np.var(np.dot(weights_2, returns_2), ddof=1))\n",
    "print \"Portfolio volatility: \", vol_p_alt_2"
   ]
  },
  {
   "cell_type": "markdown",
   "metadata": {},
   "source": [
    "The `ddof` parameter is a simple integer input that tells the function the number of degrees of freedom to take into account. This is a more statistical concept, but what this tells us that our matrix calculation is correct!\n",
    "\n",
    "A lot of this might not make sense at first glance. It helps to go back and forth between the theory and the code representations until you have a better grasp of the mathematics involved. It is definitely not necessary to be an expert on linear algebra and on matrix operations, but linear algebra can help to streamline the process of working with large amounts of data. For further reading on NumPy, check out the [documentation](https://docs.scipy.org/doc/numpy/user/index.html)."
   ]
  },
  {
   "cell_type": "markdown",
   "metadata": {},
   "source": [
    "*This presentation is for informational purposes only and does not constitute an offer to sell, a solicitation to buy, or a recommendation for any security; nor does it constitute an offer to provide investment advisory or other services by Quantopian, Inc. (\"Quantopian\"). Nothing contained herein constitutes investment advice or offers any opinion with respect to the suitability of any security, and any views expressed herein should not be taken as advice to buy, sell, or hold any security or as an endorsement of any security or company.  In preparing the information contained herein, Quantopian, Inc. has not taken into account the investment needs, objectives, and financial circumstances of any particular investor. Any views expressed and data illustrated herein were prepared based upon information, believed to be reliable, available to Quantopian, Inc. at the time of publication. Quantopian makes no guarantees as to their accuracy or completeness. All information is subject to change and may quickly become unreliable for various reasons, including changes in market conditions or economic circumstances.*"
   ]
  }
 ],
 "metadata": {
  "kernelspec": {
   "display_name": "Python 3.5",
   "language": "python",
   "name": "py35"
  },
  "language_info": {
   "codemirror_mode": {
    "name": "ipython",
    "version": 3
   },
   "file_extension": ".py",
   "mimetype": "text/x-python",
   "name": "python",
   "nbconvert_exporter": "python",
   "pygments_lexer": "ipython3",
   "version": "3.5.9"
  }
 },
 "nbformat": 4,
 "nbformat_minor": 1
}
